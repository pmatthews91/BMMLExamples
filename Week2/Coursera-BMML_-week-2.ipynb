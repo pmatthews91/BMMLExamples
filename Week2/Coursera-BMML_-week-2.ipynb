{
 "cells": [
  {
   "cell_type": "markdown",
   "metadata": {
    "deletable": true,
    "editable": true
   },
   "source": [
    "# Expectation-maximization algorithm"
   ]
  },
  {
   "cell_type": "markdown",
   "metadata": {
    "deletable": true,
    "editable": true
   },
   "source": [
    "In this assignment, we will derive and implement formulas for Gaussian Mixture Model — one of the most commonly used methods for performing soft clustering of the data. "
   ]
  },
  {
   "cell_type": "markdown",
   "metadata": {
    "deletable": true,
    "editable": true
   },
   "source": [
    "### Installation\n",
    "\n",
    "We will need ```numpy```, ```scikit-learn```, ```matplotlib``` libraries for this assignment"
   ]
  },
  {
   "cell_type": "code",
   "execution_count": 4,
   "metadata": {
    "collapsed": true,
    "deletable": true,
    "editable": true
   },
   "outputs": [],
   "source": [
    "import numpy as np\n",
    "from numpy.linalg import slogdet, det, solve, inv\n",
    "import matplotlib.pyplot as plt\n",
    "import time\n",
    "from sklearn.datasets import load_digits\n",
    "from grader import Grader\n",
    "from scipy.stats import wishart, dirichlet, norm\n",
    "%matplotlib inline"
   ]
  },
  {
   "cell_type": "markdown",
   "metadata": {
    "deletable": true,
    "editable": true
   },
   "source": [
    "### Grading\n",
    "We will create a grader instance below and use it to collect your answers. Note that these outputs will be stored locally inside grader and will be uploaded to the platform only after running submitting function in the last part of this assignment. If you want to make a partial submission, you can run that cell anytime you want."
   ]
  },
  {
   "cell_type": "code",
   "execution_count": 5,
   "metadata": {
    "collapsed": true,
    "deletable": true,
    "editable": true
   },
   "outputs": [],
   "source": [
    "grader = Grader()"
   ]
  },
  {
   "cell_type": "markdown",
   "metadata": {
    "deletable": true,
    "editable": true
   },
   "source": [
    "## Implementing EM for GMM"
   ]
  },
  {
   "cell_type": "markdown",
   "metadata": {
    "deletable": true,
    "editable": true
   },
   "source": [
    "For debugging we will use samples from gaussian mixture model with unknown mean, variance and priors. We also added inital values of parameters for grading purposes."
   ]
  },
  {
   "cell_type": "code",
   "execution_count": 6,
   "metadata": {
    "collapsed": false,
    "deletable": true,
    "editable": true
   },
   "outputs": [
    {
     "data": {
      "image/png": "[encoded data removed]",
      "text/plain": [
       "<matplotlib.figure.Figure at 0x262ea9598d0>"
      ]
     },
     "metadata": {},
     "output_type": "display_data"
    },
    {
     "name": "stdout",
     "output_type": "stream",
     "text": [
      "(280, 2)\n"
     ]
    }
   ],
   "source": [
    "samples = np.load('samples.npz')\n",
    "X = samples['data']\n",
    "pi0 = samples['pi0']\n",
    "mu0 = samples['mu0']\n",
    "sigma0 = samples['sigma0']\n",
    "plt.scatter(X[:, 0], X[:, 1], c='grey', s=30)\n",
    "plt.axis('equal')\n",
    "plt.show()\n",
    "print(X.shape)"
   ]
  },
  {
   "cell_type": "markdown",
   "metadata": {
    "deletable": true,
    "editable": true
   },
   "source": [
    "### Reminder"
   ]
  },
  {
   "cell_type": "markdown",
   "metadata": {
    "deletable": true,
    "editable": true
   },
   "source": [
    "Remember, that EM algorithm is a coordinate descent optimization of variational lower bound $\\mathcal{L}(\\theta, q) = \\int q(T) \\log\\frac{P(X, T|\\theta)}{q(T)}dT\\to \\max$.\n",
    "\n",
    "<b>E-step</b>:<br>\n",
    "$\\mathcal{L}(\\theta, q) \\to \\max\\limits_{q} \\Leftrightarrow \\mathcal{KL} [q(T) \\,\\|\\, p(T|X, \\theta)] \\to \\min \\limits_{q\\in Q} \\Rightarrow q(T) = p(T|X, \\theta)$<br>\n",
    "<b>M-step</b>:<br> \n",
    "$\\mathcal{L}(\\theta, q) \\to \\max\\limits_{\\theta} \\Leftrightarrow \\mathbb{E}_{q(T)}\\log p(X,T | \\theta) \\to \\max\\limits_{\\theta}$\n",
    "\n",
    "For GMM, $\\theta$ is a set of parameters that consists of mean vectors $\\mu_c$, covariance matrices $\\Sigma_c$ and priors $\\pi_c$ for each component.\n",
    "\n",
    "Latent variables $T$ are indices of components to which each data point is assigned. $T_i$ (cluster index for object $i$) is a binary vector with only one active bit in position corresponding to the true component. For example, if we have $C=3$ components and object $i$ lies in first component, $T_i = [1, 0, 0]$.\n",
    "\n",
    "The joint distribution can be written as follows: $p(T, X \\mid \\theta) =  \\prod\\limits_{i=1}^N p(T_i, X_i \\mid \\theta) = \\prod\\limits_{i=1}^N \\prod\\limits_{c=1}^C [\\pi_c \\mathcal{N}(X_i \\mid \\mu_c, \\Sigma_c)]^{T_{ic}}$."
   ]
  },
  {
   "cell_type": "markdown",
   "metadata": {
    "deletable": true,
    "editable": true
   },
   "source": [
    "### E-step\n",
    "In this step we need to estimate the posterior distribution over the latent variables with fixed values of parameters: $q(T) = p(T|X, \\theta)$. We will assume that $T_i$ (cluster index for object $i$) is a binary vector with only one '1' in position corresponding to the true component. To do so we need to compute $\\gamma_{ic} = P(T_{ic} = 1 \\mid X, \\theta)$. Note that $\\sum\\limits_{c=1}^C\\gamma_{ic}=1$.\n"
   ]
  },
  {
   "cell_type": "markdown",
   "metadata": {
    "deletable": true,
    "editable": true
   },
   "source": [
    "<b>Important trick 1:</b> It is important to avoid numerical errors. At some point you will have to compute the formula of the following form: $\\frac{e^{x_i}}{\\sum_j e^{x_j}}$. When you compute exponents of large numbers, you get huge numerical errors (some numbers will simply become infinity). You can avoid this by dividing numerator and denominator by $e^{\\max(x)}$: $\\frac{e^{x_i-\\max(x)}}{\\sum_j e^{x_j - \\max(x)}}$. After this transformation maximum value in the denominator will be equal to one. All other terms will contribute smaller values. This trick is called log-sum-exp. So, to compute desired formula you first subtract maximum value from each component in vector $X$ and then compute everything else as before.\n",
    "\n",
    "<b>Important trick 2:</b> You will probably need to compute formula of the form $A^{-1}x$ at some point. You would normally inverse $A$ and then multiply it by $x$. A bit faster and more numerically accurate way to do this is to solve the equation $Ay = x$. Its solution is $y=A^{-1}x$, but the equation $Ay = x$ can be solved by Gaussian elimination procedure. You can use ```np.linalg.solve``` for this.\n",
    "\n",
    "<b>Other usefull functions: </b> <a href=\"https://docs.scipy.org/doc/numpy/reference/generated/numpy.linalg.slogdet.html\">```slogdet```</a> and <a href=\"https://docs.scipy.org/doc/numpy/reference/generated/numpy.linalg.det.html#numpy.linalg.det\">```det```</a>"
   ]
  },
  {
   "cell_type": "markdown",
   "metadata": {
    "deletable": true,
    "editable": true
   },
   "source": [
    "<b>Task 1:</b> Implement E-step for GMM using template below."
   ]
  },
  {
   "cell_type": "code",
   "execution_count": 7,
   "metadata": {
    "collapsed": true,
    "deletable": true,
    "editable": true
   },
   "outputs": [],
   "source": [
    "def E_step(X, pi, mu, sigma):\n",
    "    \"\"\"\n",
    "    Performs E-step on GMM model\n",
    "    Each input is numpy array:\n",
    "    X: (N x d), data points\n",
    "    pi: (C), mixture component weights \n",
    "    mu: (C x d), mixture component means\n",
    "    sigma: (C x d x d), mixture component covariance matrices\n",
    "    \n",
    "    Returns:\n",
    "    gamma: (N x C), probabilities of clusters for objects\n",
    "    \"\"\"\n",
    "    N = X.shape[0] # number of objects\n",
    "    C = pi.shape[0] # number of clusters\n",
    "    d = mu.shape[1] # dimension of each object\n",
    "    gamma = np.zeros((N, C)) # distribution q(T)\n",
    "    \n",
    "    ### YOUR CODE HERE\n",
    "    \n",
    "    # Calculate determinants for later\n",
    "    determinant = np.zeros((1, C))\n",
    "    for clus in range(0, C):\n",
    "        determinant[0, clus] = np.linalg.det(sigma[clus,:,:])\n",
    "        \n",
    "    # Loop through data\n",
    "    for i in range(0, N):\n",
    "        exponent = np.zeros((1, C))\n",
    "        \n",
    "        for clus in range(0, C):\n",
    "            X_renorm = np.subtract(X[i,:], mu[clus, :])\n",
    "            # Don't precompute sigma inverse, but solve by Gausian elimination for more accurate solution (slower overall...)\n",
    "            exponent[0, clus] = - 0.5 * np.matmul(np.transpose(X_renorm), np.linalg.solve(sigma[clus,:,:], X_renorm))\n",
    "            \n",
    "        maxElement = np.max(exponent)\n",
    "        sumElement = 0\n",
    "        \n",
    "        # Find total sum\n",
    "        for clus in range(0, C):\n",
    "            sumElement += pi[clus]/(np.sqrt(determinant[0, clus])) * np.exp(exponent[0, clus] - maxElement)\n",
    "         \n",
    "        # Calculate gamma for each cluster\n",
    "        for clus in range(0, C):\n",
    "            gamma[i, clus] = pi[clus]/(np.sqrt(determinant[0, clus])) * np.exp(exponent[0, clus] - maxElement) / sumElement\n",
    "    \n",
    "    return gamma"
   ]
  },
  {
   "cell_type": "code",
   "execution_count": 8,
   "metadata": {
    "collapsed": false,
    "deletable": true,
    "editable": true
   },
   "outputs": [
    {
     "name": "stdout",
     "output_type": "stream",
     "text": [
      "[  9.39942457e-10   9.94597134e-01   5.40286460e-03]\n",
      "1.0\n",
      "Current answer for task Task 1 (E-step) is: 0.533717874108\n"
     ]
    }
   ],
   "source": [
    "gamma = E_step(X, pi0, mu0, sigma0)\n",
    "\n",
    "print(gamma[200, :])\n",
    "print(np.sum(gamma[200, :]))\n",
    "\n",
    "grader.submit_e_step(gamma)"
   ]
  },
  {
   "cell_type": "markdown",
   "metadata": {
    "deletable": true,
    "editable": true
   },
   "source": [
    "### M-step\n",
    "\n",
    "In M-step we need to maximize $\\mathbb{E}_{q(T)}\\log p(X,T | \\theta)$ with respect to $\\theta$. In our model this means that we need to find optimal values of $\\pi$, $\\mu$, $\\Sigma$. To do so, you need to compute the derivatives and \n",
    "set them to zero. You should start by deriving formulas for $\\mu$ as it is the easiest part. Then move on to $\\Sigma$. Here it is crucial to optimize function w.r.t. to $\\Lambda = \\Sigma^{-1}$ and then inverse obtained result. Finaly, to compute $\\pi$, you will need <a href=\"https://www3.nd.edu/~jstiver/FIN360/Constrained%20Optimization.pdf\">Lagrange Multipliers technique</a> to satisfy constraint $\\sum\\limits_{i=1}^{n}\\pi_i = 1$.\n",
    "\n",
    "<br>\n",
    "<b>Important note:</b> You will need to compute derivatives of scalars with respect to matrices. To refresh this technique from previous courses, see <a href=\"https://en.wikipedia.org/wiki/Matrix_calculus\"> wiki article</a> about it . Main formulas of matrix derivatives can be found in <a href=\"http://www2.imm.dtu.dk/pubdb/views/edoc_download.php/3274/pdf/imm3274.pdf\">Chapter 2 of The Matrix Cookbook</a>. For example, there you may find that $\\frac{\\partial}{\\partial A}\\log |A| = A^{-T}$.\n"
   ]
  },
  {
   "cell_type": "markdown",
   "metadata": {
    "deletable": true,
    "editable": true
   },
   "source": [
    "<b>Task 2:</b> Implement M-step for GMM using template below."
   ]
  },
  {
   "cell_type": "code",
   "execution_count": 9,
   "metadata": {
    "collapsed": false,
    "deletable": true,
    "editable": true
   },
   "outputs": [],
   "source": [
    "def M_step(X, gamma):\n",
    "    \"\"\"\n",
    "    Performs M-step on GMM model\n",
    "    Each input is numpy array:\n",
    "    X: (N x d), data points\n",
    "    gamma: (N x C), distribution q(T)  \n",
    "    \n",
    "    Returns:\n",
    "    pi: (C)\n",
    "    mu: (C x d)\n",
    "    sigma: (C x d x d)\n",
    "    \"\"\"\n",
    "    N = X.shape[0] # number of objects\n",
    "    C = gamma.shape[1] # number of clusters\n",
    "    d = X.shape[1] # dimension of each object\n",
    "\n",
    "    ### YOUR CODE HERE\n",
    "    \n",
    "    gamma_sum = np.transpose(np.sum(gamma, axis = 0))\n",
    "    #print(gamma_sum.shape)\n",
    "    mu = np.matmul(np.transpose(gamma), X)\n",
    "    mu = np.divide(mu, gamma_sum[:, None])\n",
    "    #print(mu.shape)\n",
    "    \n",
    "    pi = gamma_sum / N\n",
    "    \n",
    "    sigma = np.zeros((C, d, d))\n",
    "    for clus in range(0, C):\n",
    "        delta = np.subtract(X, mu[clus, :])\n",
    "        #print('delta.shape = ', delta.shape)\n",
    "        scaled_delta = np.multiply(delta, gamma[:, clus].reshape(N, 1))\n",
    "        #print('scaled_delta.shape = ', scaled_delta.shape)\n",
    "        sigma[clus, :, :] = np.matmul(np.transpose(scaled_delta), delta) / gamma_sum[clus]\n",
    "    \n",
    "    #print(sigma.shape)\n",
    "    return pi, mu, sigma"
   ]
  },
  {
   "cell_type": "code",
   "execution_count": 10,
   "metadata": {
    "collapsed": false,
    "deletable": true,
    "editable": true
   },
   "outputs": [
    {
     "name": "stdout",
     "output_type": "stream",
     "text": [
      "pi =  [ 0.44702322  0.55076245  0.00221433]\n",
      "mu =  [[ 1.05852748  5.40759435]\n",
      " [ 2.16796132  2.89939188]\n",
      " [-1.33306197  1.41522785]]\n",
      "sigma(1) =  [[ 0.70631457  1.00189734]\n",
      " [ 1.00189734  3.09525744]]\n",
      "Current answer for task Task 2 (M-step: mu) is: 2.89939188205\n",
      "Current answer for task Task 2 (M-step: sigma) is: 5.9771052169\n",
      "Current answer for task Task 2 (M-step: pi) is: 0.550762445922\n"
     ]
    }
   ],
   "source": [
    "gamma = E_step(X, pi0, mu0, sigma0)\n",
    "pi, mu, sigma = M_step(X, gamma)\n",
    "\n",
    "print('pi = ', pi)\n",
    "print('mu = ', mu)\n",
    "print('sigma(1) = ', sigma[0, :, :])\n",
    "\n",
    "grader.submit_m_step(pi, mu, sigma)"
   ]
  },
  {
   "cell_type": "markdown",
   "metadata": {
    "deletable": true,
    "editable": true
   },
   "source": [
    "### Loss function"
   ]
  },
  {
   "cell_type": "markdown",
   "metadata": {
    "deletable": true,
    "editable": true
   },
   "source": [
    "Finally, we need some function to track convergence. We will use variational lower bound $\\mathcal{L}$ for this purpose. We will stop our EM iterations when $\\mathcal{L}$ will saturate. Usually, you will need only about 10-20 iterations to converge. It is also useful to check that this function never decreases during training. If it does, you have a bug in your code.\n",
    "\n",
    "<b>Task 3:</b> Implement a function that will compute $\\mathcal{L}$ using template below.\n",
    "\n",
    "$$\\mathcal{L} = \\sum_{n=1}^{N} \\sum_{k=1}^{K} \\mathbb{E}[z_{n, k}] (\\log \\pi_k + \\log \\mathcal{N}(x_n | \\mu_k, \\sigma_k)) - \\sum_{n=1}^{N} \\sum_{k=1}^{K} \\mathbb{E}[z_{n, k}] \\log \\mathbb{E}[z_{n, k}]$$"
   ]
  },
  {
   "cell_type": "code",
   "execution_count": 25,
   "metadata": {
    "collapsed": true,
    "deletable": true,
    "editable": true
   },
   "outputs": [],
   "source": [
    "def compute_vlb(X, pi, mu, sigma, gamma):\n",
    "    \"\"\"\n",
    "    Each input is numpy array:\n",
    "    X: (N x d), data points\n",
    "    gamma: (N x C), distribution q(T)  \n",
    "    pi: (C)\n",
    "    mu: (C x d)\n",
    "    sigma: (C x d x d)\n",
    "    \n",
    "    Returns value of variational lower bound\n",
    "    \"\"\"\n",
    "    N = X.shape[0] # number of objects\n",
    "    C = gamma.shape[1] # number of clusters\n",
    "    d = X.shape[1] # dimension of each object\n",
    "\n",
    "    ### YOUR CODE HERE\n",
    "    \n",
    "    loss = 0.0\n",
    "    determinant = np.zeros(C)\n",
    "    for clus in range(0, C):\n",
    "        determinant[clus] = np.linalg.det(sigma[clus,:,:])\n",
    "    \n",
    "    #print('sigma[0,:,:] = ', sigma[0,:,:])\n",
    "    #print('determinant = ', determinant)\n",
    "    \n",
    "         # Loop through data\n",
    "    for i in range(0, N):\n",
    "        exponent = np.zeros(C)\n",
    "        z = np.zeros(C)\n",
    "        logz = np.zeros(C)\n",
    "        \n",
    "        for clus in range(0, C):\n",
    "            X_renorm = np.subtract(X[i,:], mu[clus, :])\n",
    "            exponent[clus] = - 0.5 * np.matmul(np.transpose(X_renorm), np.linalg.solve(sigma[clus,:,:], X_renorm))\n",
    "            z[clus] = (2 * np.pi)**d * np.abs(determinant[clus])\n",
    "            logz[clus] = 0.5 * np.log(z[clus])\n",
    "            \n",
    "        #print('gamma[i, :] = ', gamma[i, :])\n",
    "        #print('p.log(pi) = ', np.log(pi))\n",
    "        #print('exponent', exponent)\n",
    "        #print('z = ', z)\n",
    "        #print('logz', logz)\n",
    "        \n",
    "        # Avoid log(0) giving nan in loss\n",
    "        bGammaZero = gamma[i, :] != 0\n",
    "        bPiZero = pi != 0\n",
    "        \n",
    "        gamma_sum = np.matmul(gamma[i, bGammaZero], np.log(np.transpose(gamma[i, bGammaZero])))\n",
    "        pi_sum = np.matmul(gamma[i, bPiZero], np.log(pi[bPiZero]))\n",
    "        \n",
    "        loss += np.matmul(gamma[i, :], exponent - logz) + pi_sum - gamma_sum\n",
    "        \n",
    "        #print('loss = ', loss)\n",
    "\n",
    "    return loss"
   ]
  },
  {
   "cell_type": "code",
   "execution_count": 26,
   "metadata": {
    "collapsed": false,
    "deletable": true,
    "editable": true
   },
   "outputs": [
    {
     "name": "stdout",
     "output_type": "stream",
     "text": [
      "Current answer for task Task 3 (VLB) is: -1213.97346431\n"
     ]
    }
   ],
   "source": [
    "pi, mu, sigma = pi0, mu0, sigma0\n",
    "gamma = E_step(X, pi, mu, sigma)\n",
    "pi, mu, sigma = M_step(X, gamma)\n",
    "loss = compute_vlb(X, pi, mu, sigma, gamma)\n",
    "grader.submit_VLB(loss)"
   ]
  },
  {
   "cell_type": "markdown",
   "metadata": {
    "deletable": true,
    "editable": true
   },
   "source": [
    "### Bringing it all together"
   ]
  },
  {
   "cell_type": "markdown",
   "metadata": {
    "deletable": true,
    "editable": true
   },
   "source": [
    "Now that we have E step, M step and VLB, we can implement training loop. We will start at random values of $\\pi$, $\\mu$ and $\\Sigma$, train until $\\mathcal{L}$ stops changing and return the resulting points. We also know that EM algorithm sometimes stops at local optima. To avoid this we should restart algorithm multiple times from different starting positions. Each training trial should stop either when maximum number of iterations is reached or when relative improvement is smaller than given tolerance ($|\\frac{\\mathcal{L}_i-\\mathcal{L}_{i-1}}{\\mathcal{L}_{i-1}}| \\le \\text{rtol}$).\n",
    "\n",
    "Remember, that values of $\\pi$ that you generate must be non-negative and sum up to 1. Also, $\\Sigma$ matrices must be symmetric and positive semi-definite. If you don't know how to generate those matrices, you can use $\\Sigma=I$ as initialization.\n",
    "\n",
    "You will also sometimes get numerical errors because of component collapsing. The easiest way to deal with this problems is to simply restart the procedure.\n",
    "\n",
    "<b>Task 4:</b> Implement training procedure"
   ]
  },
  {
   "cell_type": "code",
   "execution_count": 40,
   "metadata": {
    "collapsed": true,
    "deletable": true,
    "editable": true
   },
   "outputs": [],
   "source": [
    "def train_EM(X, C, rtol=1e-3, max_iter=100, restarts=10):\n",
    "    '''\n",
    "    Starts with random initialization *restarts* times\n",
    "    Runs optimization until saturation with *rtol* reached\n",
    "    or *max_iter* iterations were made.\n",
    "    \n",
    "    X: (N, d), data points\n",
    "    C: int, number of clusters\n",
    "    '''\n",
    "    N = X.shape[0] # number of objects\n",
    "    d = X.shape[1] # dimension of each object\n",
    "    best_loss = -99999999\n",
    "    best_pi = None\n",
    "    best_mu = None\n",
    "    best_sigma = None\n",
    "\n",
    "    for _ in range(restarts):\n",
    "        try:\n",
    "            ### YOUR CODE HERE\n",
    "            # Initialise parameters in a Bayesian way\n",
    "            sigma = np.zeros((C, d, d))\n",
    "            mu = np.zeros((C, d))\n",
    "            pi = dirichlet.rvs(np.ones(C), size = 1).reshape(C)\n",
    "            for clus in range(0, C):\n",
    "                w = wishart.rvs(d, np.identity(d) / d, size=1)\n",
    "                sigma[clus, :, :] = np.linalg.inv(w)\n",
    "                #sigma[clus, :, :] = np.identity(d)\n",
    "                mu[clus, :] = norm.rvs(loc = 0, scale = 5, size = d)\n",
    "            \n",
    "            loss_prev = -99999999\n",
    "            #print('sigma = ', sigma)\n",
    "            #print('mu = ', mu)\n",
    "            #print('pi = ', pi)\n",
    "            #print('sigma.shape = ', sigma.shape)\n",
    "            #print('mu.shape = ', mu.shape)\n",
    "            #print('pi.shape = ', pi.shape)\n",
    "            \n",
    "            # Loop through iterations \n",
    "            for i in range(0, max_iter):\n",
    "                gamma = E_step(X, pi, mu, sigma)\n",
    "                #print('gamma.shape = ', gamma.shape)\n",
    "                pi, mu, sigma = M_step(X, gamma)\n",
    "                loss = compute_vlb(X, pi, mu, sigma, gamma)\n",
    "                \n",
    "                print('loss = ', loss)\n",
    "                \n",
    "                #Check that loss increases because otherwise we have a bug\n",
    "                assert(loss >= loss_prev), 'Loss decreased!'\n",
    "                \n",
    "                # Break if change in loss is less than tolerance\n",
    "                if np.abs((loss - loss_prev)/loss_prev) <= rtol:\n",
    "                    print('Break after ', i, ' iterations')\n",
    "                    break\n",
    "                    \n",
    "                loss_prev = loss\n",
    "                \n",
    "            # Check loss against best loss obtained so far\n",
    "            if loss > best_loss:\n",
    "                best_loss = loss\n",
    "                best_pi = pi\n",
    "                best_mu = mu\n",
    "                best_sigma = sigma\n",
    "\n",
    "        except np.linalg.LinAlgError:\n",
    "            print(\"Singular matrix: components collapsed\")\n",
    "            pass\n",
    "\n",
    "    return best_loss, best_pi, best_mu, best_sigma"
   ]
  },
  {
   "cell_type": "code",
   "execution_count": 41,
   "metadata": {
    "collapsed": false,
    "deletable": true,
    "editable": true
   },
   "outputs": [
    {
     "name": "stdout",
     "output_type": "stream",
     "text": [
      "loss =  -1240.55066246\n",
      "loss =  -1170.14007299\n",
      "loss =  -1152.05035038\n",
      "loss =  -1144.22970877\n",
      "loss =  -1138.27405081\n",
      "loss =  -1132.17055792\n",
      "loss =  -1125.36791409\n",
      "loss =  -1117.90846981\n",
      "loss =  -1109.29774672\n",
      "loss =  -1099.98894046\n",
      "loss =  -1093.20763595\n",
      "loss =  -1089.03987531\n",
      "loss =  -1086.058505\n",
      "loss =  -1083.50726622\n",
      "loss =  -1080.99736003\n",
      "loss =  -1078.0907677\n",
      "loss =  -1074.14430354\n",
      "loss =  -1069.52199721\n",
      "loss =  -1066.50665599\n",
      "loss =  -1065.28185335\n",
      "loss =  -1064.58693072\n",
      "Break after  20  iterations\n",
      "loss =  -1176.46738802\n",
      "loss =  -1160.68688161\n",
      "loss =  -1157.45145026\n",
      "loss =  -1155.90419974\n",
      "loss =  -1155.02776584\n",
      "Break after  4  iterations\n",
      "loss =  -1205.39264086\n",
      "loss =  -1180.8997293\n",
      "Singular matrix: components collapsed\n",
      "loss =  -1239.41574904\n",
      "Singular matrix: components collapsed\n",
      "loss =  -1209.69091757\n",
      "loss =  -1156.17739244\n",
      "loss =  -1130.41259649\n",
      "loss =  -1124.58163142\n",
      "loss =  -1118.66407241\n",
      "loss =  -1112.20128857\n",
      "loss =  -1106.11295665\n",
      "loss =  -1100.81298029\n",
      "loss =  -1096.05997789\n",
      "loss =  -1091.42831842\n",
      "loss =  -1086.16476058\n",
      "loss =  -1079.58688304\n",
      "loss =  -1072.94050609\n",
      "loss =  -1068.3771784\n",
      "loss =  -1066.23717595\n",
      "loss =  -1065.16241223\n",
      "loss =  -1064.49058027\n",
      "Break after  16  iterations\n",
      "loss =  -1134.42137643\n",
      "loss =  -1128.77568822\n",
      "Singular matrix: components collapsed\n",
      "loss =  -1246.24549126\n",
      "loss =  -1193.37499051\n",
      "Singular matrix: components collapsed\n",
      "loss =  -1235.60259928\n",
      "loss =  -1164.90902278\n",
      "loss =  -1136.73324762\n",
      "loss =  -1128.08175934\n",
      "loss =  -1095.77263249\n",
      "loss =  -1095.46072228\n",
      "Break after  5  iterations\n",
      "loss =  -1183.49415724\n",
      "loss =  -1168.87560321\n",
      "loss =  -1162.66228967\n",
      "loss =  -1159.69471747\n",
      "loss =  -1157.47487241\n",
      "loss =  -1154.24759978\n",
      "loss =  -1149.67877825\n",
      "loss =  -1144.77535314\n",
      "loss =  -1140.52573752\n",
      "loss =  -1136.87811707\n",
      "loss =  -1133.44898057\n",
      "loss =  -1129.95351273\n",
      "loss =  -1126.23255988\n",
      "loss =  -1122.2845842\n",
      "loss =  -1118.31247625\n",
      "loss =  -1114.62224612\n",
      "loss =  -1111.43257906\n",
      "loss =  -1108.79328466\n",
      "loss =  -1106.63813345\n",
      "loss =  -1104.86438775\n",
      "loss =  -1103.37618527\n",
      "loss =  -1102.09503877\n",
      "loss =  -1100.95594321\n",
      "loss =  -1099.90010981\n",
      "Break after  23  iterations\n",
      "loss =  -1236.1935199\n",
      "loss =  -1136.16512258\n",
      "loss =  -1116.61155171\n",
      "loss =  -1105.73265018\n",
      "loss =  -1098.23538078\n",
      "loss =  -1092.84095041\n",
      "loss =  -1088.33885116\n",
      "loss =  -1084.08439294\n",
      "loss =  -1079.82403268\n",
      "loss =  -1075.59486673\n",
      "loss =  -1071.7067641\n",
      "loss =  -1068.57392613\n",
      "loss =  -1066.40916105\n",
      "loss =  -1065.107406\n",
      "loss =  -1064.4125044\n",
      "Break after  14  iterations\n",
      "Current answer for task Task 4 (EM) is: -1064.4125044\n"
     ]
    }
   ],
   "source": [
    "best_loss, best_pi, best_mu, best_sigma = train_EM(X, 3, restarts = 10)\n",
    "grader.submit_EM(best_loss)"
   ]
  },
  {
   "cell_type": "markdown",
   "metadata": {
    "deletable": true,
    "editable": true
   },
   "source": [
    "If you implemented all the steps correctly, your algorithm should converge in about 20 iterations. Let's plot the clusters to see it. We will assign a cluster label as the most probable cluster index. This can be found using matrix $\\gamma$ computed on last E-step. \n"
   ]
  },
  {
   "cell_type": "code",
   "execution_count": 42,
   "metadata": {
    "collapsed": false,
    "deletable": true,
    "editable": true
   },
   "outputs": [
    {
     "data": {
      "image/png": "[encoded data removed]",
      "text/plain": [
       "<matplotlib.figure.Figure at 0x262ead04780>"
      ]
     },
     "metadata": {},
     "output_type": "display_data"
    }
   ],
   "source": [
    "gamma = E_step(X, best_pi, best_mu, best_sigma)\n",
    "labels = gamma.argmax(1)\n",
    "plt.scatter(X[:, 0], X[:, 1], c=labels, s=30)\n",
    "plt.axis('equal')\n",
    "plt.show()"
   ]
  },
  {
   "cell_type": "markdown",
   "metadata": {
    "deletable": true,
    "editable": true
   },
   "source": [
    "### Authorization & Submission\n",
    "To submit assignment parts to Cousera platform, please, enter your e-mail and your token into variables below. You can generate the token on this programming assignment page. <b>Note:</b> Token expires 30 minutes after generation."
   ]
  },
  {
   "cell_type": "code",
   "execution_count": 43,
   "metadata": {
    "collapsed": false,
    "deletable": true,
    "editable": true
   },
   "outputs": [
    {
     "name": "stdout",
     "output_type": "stream",
     "text": [
      "You want to submit these numbers:\n",
      "Task Task 1 (E-step): 0.533717874108\n",
      "Task Task 2 (M-step: mu): 2.89939188205\n",
      "Task Task 2 (M-step: sigma): 5.9771052169\n",
      "Task Task 2 (M-step: pi): 0.550762445922\n",
      "Task Task 3 (VLB): -1213.97346431\n",
      "Task Task 4 (EM): -1064.4125044\n"
     ]
    }
   ],
   "source": [
    "STUDENT_EMAIL = 'pmatthews91@gmail.com'\n",
    "STUDENT_TOKEN = 'yYz3t8SfmDq6ONDJ'\n",
    "grader.status()"
   ]
  },
  {
   "cell_type": "markdown",
   "metadata": {
    "deletable": true,
    "editable": true
   },
   "source": [
    "If you want to submit these answers, run cell below"
   ]
  },
  {
   "cell_type": "code",
   "execution_count": 44,
   "metadata": {
    "collapsed": false,
    "deletable": true,
    "editable": true
   },
   "outputs": [
    {
     "name": "stdout",
     "output_type": "stream",
     "text": [
      "Submitted to Coursera platform. See results on assignment page!\n"
     ]
    }
   ],
   "source": [
    "grader.submit(STUDENT_EMAIL, STUDENT_TOKEN)"
   ]
  },
  {
   "cell_type": "code",
   "execution_count": null,
   "metadata": {
    "collapsed": true,
    "deletable": true,
    "editable": true
   },
   "outputs": [],
   "source": []
  }
 ],
 "metadata": {
  "kernelspec": {
   "display_name": "Python 3",
   "language": "python",
   "name": "python3"
  },
  "language_info": {
   "codemirror_mode": {
    "name": "ipython",
    "version": 3
   },
   "file_extension": ".py",
   "mimetype": "text/x-python",
   "name": "python",
   "nbconvert_exporter": "python",
   "pygments_lexer": "ipython3",
   "version": "3.5.1"
  },
  "latex_envs": {
   "bibliofile": "biblio.bib",
   "cite_by": "apalike",
   "current_citInitial": 1,
   "eqLabelWithNumbers": true,
   "eqNumInitial": 0
  }
 },
 "nbformat": 4,
 "nbformat_minor": 2
}
